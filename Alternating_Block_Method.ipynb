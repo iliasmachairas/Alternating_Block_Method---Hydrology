{
 "cells": [
  {
   "cell_type": "code",
   "execution_count": 2,
   "id": "f8595c5b",
   "metadata": {},
   "outputs": [],
   "source": [
    "import pandas as pd\n",
    "import matplotlib.pyplot as plt\n",
    "import numpy as np\n",
    "%matplotlib inline"
   ]
  },
  {
   "cell_type": "markdown",
   "id": "f082b4d5",
   "metadata": {},
   "source": [
    "# IDF Curves - Greece"
   ]
  },
  {
   "cell_type": "markdown",
   "id": "d33141bf",
   "metadata": {},
   "source": [
    "In the context of the implementation of Water Directive 2007/60 in Greece, formulas of rain curves (parametric relations for calculating the intensity of rainfall for a given duration and recovery period) were drawn up at the locations of the rainfall stations in each Water Department. You may have a look at the following link:\n",
    "\n",
    "https://floods.ypeka.gr/index.php?option=com_content&view=article&id=174&Itemid=604\n",
    "    "
   ]
  },
  {
   "cell_type": "code",
   "execution_count": 41,
   "id": "ba8f6c9b",
   "metadata": {},
   "outputs": [
    {
     "data": {
      "text/html": [
       "<div>\n",
       "<style scoped>\n",
       "    .dataframe tbody tr th:only-of-type {\n",
       "        vertical-align: middle;\n",
       "    }\n",
       "\n",
       "    .dataframe tbody tr th {\n",
       "        vertical-align: top;\n",
       "    }\n",
       "\n",
       "    .dataframe thead th {\n",
       "        text-align: right;\n",
       "    }\n",
       "</style>\n",
       "<table border=\"1\" class=\"dataframe\">\n",
       "  <thead>\n",
       "    <tr style=\"text-align: right;\">\n",
       "      <th></th>\n",
       "      <th>ΥΔ</th>\n",
       "      <th>ΚΩΔΙΚΟΣ</th>\n",
       "      <th>ΟΝΟΜΑ</th>\n",
       "      <th>Χ</th>\n",
       "      <th>Υ</th>\n",
       "      <th>Ζ</th>\n",
       "      <th>κ</th>\n",
       "      <th>λ΄</th>\n",
       "      <th>ψ΄</th>\n",
       "      <th>θ</th>\n",
       "      <th>η</th>\n",
       "    </tr>\n",
       "  </thead>\n",
       "  <tbody>\n",
       "    <tr>\n",
       "      <th>457</th>\n",
       "      <td>GR10</td>\n",
       "      <td>458</td>\n",
       "      <td>ΜΕΓΑΛΗ ΠΑΝΑΓΙΑ</td>\n",
       "      <td>472333.9</td>\n",
       "      <td>4476745.5</td>\n",
       "      <td>440.0</td>\n",
       "      <td>0.12</td>\n",
       "      <td>370.5</td>\n",
       "      <td>0.71</td>\n",
       "      <td>0.076</td>\n",
       "      <td>0.686</td>\n",
       "    </tr>\n",
       "  </tbody>\n",
       "</table>\n",
       "</div>"
      ],
      "text/plain": [
       "       ΥΔ  ΚΩΔΙΚΟΣ           ΟΝΟΜΑ         Χ          Υ      Ζ     κ     λ΄  \\\n",
       "457  GR10      458  ΜΕΓΑΛΗ ΠΑΝΑΓΙΑ  472333.9  4476745.5  440.0  0.12  370.5   \n",
       "\n",
       "       ψ΄      θ      η  \n",
       "457  0.71  0.076  0.686  "
      ]
     },
     "execution_count": 41,
     "metadata": {},
     "output_type": "execute_result"
    }
   ],
   "source": [
    "stations = pd.read_excel('Data/GR_StationsIDF_FD.xlsx')\n",
    "selected_station = stations.loc[stations['ΚΩΔΙΚΟΣ'] == 458].copy()\n",
    "selected_station"
   ]
  },
  {
   "cell_type": "markdown",
   "id": "d121e125",
   "metadata": {},
   "source": [
    "The formula required to estimate "
   ]
  },
  {
   "cell_type": "markdown",
   "id": "af2fe45c",
   "metadata": {},
   "source": [
    "\\begin{equation} \n",
    "i= \\frac{a(T)}{b(d)}\n",
    "\\end{equation}"
   ]
  },
  {
   "cell_type": "markdown",
   "id": "0e6919dc",
   "metadata": {},
   "source": [
    "\\begin{equation} \n",
    "i(d, T)=\\frac{\\lambda^{\\prime}\\left(T^{k}-\\psi^{\\prime}\\right)}{(1+d / \\theta)^{\\eta}}\n",
    "\\end{equation}"
   ]
  },
  {
   "cell_type": "markdown",
   "id": "ced67bad",
   "metadata": {},
   "source": [
    "This formula contains five parameters which can be found in the above mentioned table"
   ]
  },
  {
   "cell_type": "code",
   "execution_count": 42,
   "id": "123ea4e5",
   "metadata": {},
   "outputs": [],
   "source": [
    "kappa = selected_station['κ']\n",
    "lambda_par = selected_station['λ΄']\n",
    "psi = selected_station['ψ΄']\n",
    "theta = selected_station['θ']\n",
    "ita = selected_station['η']"
   ]
  },
  {
   "cell_type": "code",
   "execution_count": 53,
   "id": "1fe93e98",
   "metadata": {},
   "outputs": [],
   "source": [
    "def rain_intens(T,d):\n",
    "    a = lambda_par * (T**kappa - psi)\n",
    "    b = (1 + d / theta) ** ita\n",
    "    return a / b\n",
    "\n",
    "# Vectorizing function\n",
    "rain_intens_v = np.vectorize(rain_intens)\n",
    "d = np.linspace(0,24,100)\n",
    "rain_intens_v(50,d)"
   ]
  },
  {
   "cell_type": "markdown",
   "id": "eb3d7ad1",
   "metadata": {},
   "source": [
    "# Plots"
   ]
  },
  {
   "cell_type": "code",
   "execution_count": null,
   "id": "61e454e6",
   "metadata": {},
   "outputs": [],
   "source": []
  }
 ],
 "metadata": {
  "kernelspec": {
   "display_name": "Python 3 (ipykernel)",
   "language": "python",
   "name": "python3"
  },
  "language_info": {
   "codemirror_mode": {
    "name": "ipython",
    "version": 3
   },
   "file_extension": ".py",
   "mimetype": "text/x-python",
   "name": "python",
   "nbconvert_exporter": "python",
   "pygments_lexer": "ipython3",
   "version": "3.8.10"
  }
 },
 "nbformat": 4,
 "nbformat_minor": 5
}
